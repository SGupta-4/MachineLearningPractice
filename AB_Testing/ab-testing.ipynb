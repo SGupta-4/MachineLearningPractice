{
 "cells": [
  {
   "cell_type": "code",
   "execution_count": 1,
   "id": "976c78cb",
   "metadata": {
    "_cell_guid": "b1076dfc-b9ad-4769-8c92-a6c4dae69d19",
    "_uuid": "8f2839f25d086af736a60e9eeb907d3b93b6e0e5",
    "execution": {
     "iopub.execute_input": "2024-09-15T10:34:11.229490Z",
     "iopub.status.busy": "2024-09-15T10:34:11.228596Z",
     "iopub.status.idle": "2024-09-15T10:34:11.620234Z",
     "shell.execute_reply": "2024-09-15T10:34:11.619160Z"
    },
    "papermill": {
     "duration": 0.400845,
     "end_time": "2024-09-15T10:34:11.622714",
     "exception": false,
     "start_time": "2024-09-15T10:34:11.221869",
     "status": "completed"
    },
    "tags": []
   },
   "outputs": [
    {
     "name": "stdout",
     "output_type": "stream",
     "text": [
      "/kaggle/input/ab-testing-data/Recommendation_data.xlsx\n"
     ]
    }
   ],
   "source": [
    "# This Python 3 environment comes with many helpful analytics libraries installed\n",
    "# It is defined by the kaggle/python Docker image: https://github.com/kaggle/docker-python\n",
    "# For example, here's several helpful packages to load\n",
    "\n",
    "import numpy as np # linear algebra\n",
    "import pandas as pd # data processing, CSV file I/O (e.g. pd.read_csv)\n",
    "\n",
    "# Input data files are available in the read-only \"../input/\" directory\n",
    "# For example, running this (by clicking run or pressing Shift+Enter) will list all files under the input directory\n",
    "\n",
    "import os\n",
    "for dirname, _, filenames in os.walk('/kaggle/input'):\n",
    "    for filename in filenames:\n",
    "        print(os.path.join(dirname, filename))\n",
    "\n",
    "# You can write up to 20GB to the current directory (/kaggle/working/) that gets preserved as output when you create a version using \"Save & Run All\" \n",
    "# You can also write temporary files to /kaggle/temp/, but they won't be saved outside of the current session"
   ]
  },
  {
   "cell_type": "code",
   "execution_count": 2,
   "id": "b3013ed5",
   "metadata": {
    "execution": {
     "iopub.execute_input": "2024-09-15T10:34:11.633383Z",
     "iopub.status.busy": "2024-09-15T10:34:11.632844Z",
     "iopub.status.idle": "2024-09-15T10:34:12.007236Z",
     "shell.execute_reply": "2024-09-15T10:34:12.006283Z"
    },
    "papermill": {
     "duration": 0.382316,
     "end_time": "2024-09-15T10:34:12.009686",
     "exception": false,
     "start_time": "2024-09-15T10:34:11.627370",
     "status": "completed"
    },
    "tags": []
   },
   "outputs": [],
   "source": [
    "data = pd.read_excel('/kaggle/input/ab-testing-data/Recommendation_data.xlsx')"
   ]
  },
  {
   "cell_type": "code",
   "execution_count": 3,
   "id": "dcd60b0b",
   "metadata": {
    "execution": {
     "iopub.execute_input": "2024-09-15T10:34:12.020638Z",
     "iopub.status.busy": "2024-09-15T10:34:12.019748Z",
     "iopub.status.idle": "2024-09-15T10:34:12.042021Z",
     "shell.execute_reply": "2024-09-15T10:34:12.041025Z"
    },
    "papermill": {
     "duration": 0.030065,
     "end_time": "2024-09-15T10:34:12.044278",
     "exception": false,
     "start_time": "2024-09-15T10:34:12.014213",
     "status": "completed"
    },
    "tags": []
   },
   "outputs": [
    {
     "data": {
      "text/html": [
       "<div>\n",
       "<style scoped>\n",
       "    .dataframe tbody tr th:only-of-type {\n",
       "        vertical-align: middle;\n",
       "    }\n",
       "\n",
       "    .dataframe tbody tr th {\n",
       "        vertical-align: top;\n",
       "    }\n",
       "\n",
       "    .dataframe thead th {\n",
       "        text-align: right;\n",
       "    }\n",
       "</style>\n",
       "<table border=\"1\" class=\"dataframe\">\n",
       "  <thead>\n",
       "    <tr style=\"text-align: right;\">\n",
       "      <th></th>\n",
       "      <th>customer_id</th>\n",
       "      <th>Recommendation_name</th>\n",
       "      <th>Recommendation_date</th>\n",
       "      <th>suggestion_type</th>\n",
       "      <th>purchase_flag</th>\n",
       "    </tr>\n",
       "  </thead>\n",
       "  <tbody>\n",
       "    <tr>\n",
       "      <th>0</th>\n",
       "      <td>1.0</td>\n",
       "      <td>Recommend_screenguard</td>\n",
       "      <td>2021-07-02</td>\n",
       "      <td>With phone</td>\n",
       "      <td>0.0</td>\n",
       "    </tr>\n",
       "    <tr>\n",
       "      <th>1</th>\n",
       "      <td>2.0</td>\n",
       "      <td>Recommend_screenguard</td>\n",
       "      <td>2021-07-03</td>\n",
       "      <td>With phone</td>\n",
       "      <td>0.0</td>\n",
       "    </tr>\n",
       "    <tr>\n",
       "      <th>2</th>\n",
       "      <td>3.0</td>\n",
       "      <td>Recommend_screenguard</td>\n",
       "      <td>2021-07-04</td>\n",
       "      <td>With cover</td>\n",
       "      <td>1.0</td>\n",
       "    </tr>\n",
       "    <tr>\n",
       "      <th>3</th>\n",
       "      <td>4.0</td>\n",
       "      <td>Recommend_screenguard</td>\n",
       "      <td>2021-07-05</td>\n",
       "      <td>With phone</td>\n",
       "      <td>0.0</td>\n",
       "    </tr>\n",
       "    <tr>\n",
       "      <th>4</th>\n",
       "      <td>5.0</td>\n",
       "      <td>Recommend_screenguard</td>\n",
       "      <td>2021-07-06</td>\n",
       "      <td>With cover</td>\n",
       "      <td>1.0</td>\n",
       "    </tr>\n",
       "  </tbody>\n",
       "</table>\n",
       "</div>"
      ],
      "text/plain": [
       "   customer_id    Recommendation_name Recommendation_date suggestion_type  \\\n",
       "0          1.0  Recommend_screenguard          2021-07-02      With phone   \n",
       "1          2.0  Recommend_screenguard          2021-07-03      With phone   \n",
       "2          3.0  Recommend_screenguard          2021-07-04      With cover   \n",
       "3          4.0  Recommend_screenguard          2021-07-05      With phone   \n",
       "4          5.0  Recommend_screenguard          2021-07-06      With cover   \n",
       "\n",
       "   purchase_flag  \n",
       "0            0.0  \n",
       "1            0.0  \n",
       "2            1.0  \n",
       "3            0.0  \n",
       "4            1.0  "
      ]
     },
     "execution_count": 3,
     "metadata": {},
     "output_type": "execute_result"
    }
   ],
   "source": [
    "data.head(5)"
   ]
  },
  {
   "cell_type": "code",
   "execution_count": 4,
   "id": "cb010be6",
   "metadata": {
    "execution": {
     "iopub.execute_input": "2024-09-15T10:34:12.055430Z",
     "iopub.status.busy": "2024-09-15T10:34:12.054688Z",
     "iopub.status.idle": "2024-09-15T10:34:12.061053Z",
     "shell.execute_reply": "2024-09-15T10:34:12.060120Z"
    },
    "papermill": {
     "duration": 0.014337,
     "end_time": "2024-09-15T10:34:12.063285",
     "exception": false,
     "start_time": "2024-09-15T10:34:12.048948",
     "status": "completed"
    },
    "tags": []
   },
   "outputs": [
    {
     "data": {
      "text/plain": [
       "(868, 5)"
      ]
     },
     "execution_count": 4,
     "metadata": {},
     "output_type": "execute_result"
    }
   ],
   "source": [
    "data.shape"
   ]
  },
  {
   "cell_type": "code",
   "execution_count": 5,
   "id": "de4e21dc",
   "metadata": {
    "execution": {
     "iopub.execute_input": "2024-09-15T10:34:12.074231Z",
     "iopub.status.busy": "2024-09-15T10:34:12.073825Z",
     "iopub.status.idle": "2024-09-15T10:34:12.085198Z",
     "shell.execute_reply": "2024-09-15T10:34:12.083819Z"
    },
    "papermill": {
     "duration": 0.020615,
     "end_time": "2024-09-15T10:34:12.088678",
     "exception": false,
     "start_time": "2024-09-15T10:34:12.068063",
     "status": "completed"
    },
    "tags": []
   },
   "outputs": [],
   "source": [
    "data.dropna(inplace=True)"
   ]
  },
  {
   "cell_type": "code",
   "execution_count": 6,
   "id": "c9c02a4e",
   "metadata": {
    "execution": {
     "iopub.execute_input": "2024-09-15T10:34:12.103905Z",
     "iopub.status.busy": "2024-09-15T10:34:12.102918Z",
     "iopub.status.idle": "2024-09-15T10:34:12.109911Z",
     "shell.execute_reply": "2024-09-15T10:34:12.108973Z"
    },
    "papermill": {
     "duration": 0.016364,
     "end_time": "2024-09-15T10:34:12.112114",
     "exception": false,
     "start_time": "2024-09-15T10:34:12.095750",
     "status": "completed"
    },
    "tags": []
   },
   "outputs": [
    {
     "data": {
      "text/plain": [
       "(711, 5)"
      ]
     },
     "execution_count": 6,
     "metadata": {},
     "output_type": "execute_result"
    }
   ],
   "source": [
    "data.shape"
   ]
  },
  {
   "cell_type": "code",
   "execution_count": 7,
   "id": "e9edb0c8",
   "metadata": {
    "execution": {
     "iopub.execute_input": "2024-09-15T10:34:12.123128Z",
     "iopub.status.busy": "2024-09-15T10:34:12.122766Z",
     "iopub.status.idle": "2024-09-15T10:34:12.143038Z",
     "shell.execute_reply": "2024-09-15T10:34:12.142062Z"
    },
    "papermill": {
     "duration": 0.028132,
     "end_time": "2024-09-15T10:34:12.145170",
     "exception": false,
     "start_time": "2024-09-15T10:34:12.117038",
     "status": "completed"
    },
    "tags": []
   },
   "outputs": [
    {
     "data": {
      "text/plain": [
       "suggestion_type  purchase_flag\n",
       "With cover       0.0              206\n",
       "                 1.0              130\n",
       "With phone       0.0              258\n",
       "                 1.0              117\n",
       "Name: count, dtype: int64"
      ]
     },
     "execution_count": 7,
     "metadata": {},
     "output_type": "execute_result"
    }
   ],
   "source": [
    "data.groupby('suggestion_type')['purchase_flag'].value_counts()"
   ]
  },
  {
   "cell_type": "code",
   "execution_count": 8,
   "id": "ed21d738",
   "metadata": {
    "execution": {
     "iopub.execute_input": "2024-09-15T10:34:12.157164Z",
     "iopub.status.busy": "2024-09-15T10:34:12.156271Z",
     "iopub.status.idle": "2024-09-15T10:34:12.173757Z",
     "shell.execute_reply": "2024-09-15T10:34:12.172602Z"
    },
    "papermill": {
     "duration": 0.026001,
     "end_time": "2024-09-15T10:34:12.176111",
     "exception": false,
     "start_time": "2024-09-15T10:34:12.150110",
     "status": "completed"
    },
    "tags": []
   },
   "outputs": [],
   "source": [
    "ct = pd.crosstab(data['suggestion_type'],data['purchase_flag']).values"
   ]
  },
  {
   "cell_type": "code",
   "execution_count": 9,
   "id": "5067cca3",
   "metadata": {
    "execution": {
     "iopub.execute_input": "2024-09-15T10:34:12.188239Z",
     "iopub.status.busy": "2024-09-15T10:34:12.187310Z",
     "iopub.status.idle": "2024-09-15T10:34:12.194107Z",
     "shell.execute_reply": "2024-09-15T10:34:12.193128Z"
    },
    "papermill": {
     "duration": 0.014904,
     "end_time": "2024-09-15T10:34:12.196169",
     "exception": false,
     "start_time": "2024-09-15T10:34:12.181265",
     "status": "completed"
    },
    "tags": []
   },
   "outputs": [
    {
     "data": {
      "text/plain": [
       "array([[206, 130],\n",
       "       [258, 117]])"
      ]
     },
     "execution_count": 9,
     "metadata": {},
     "output_type": "execute_result"
    }
   ],
   "source": [
    "ct"
   ]
  },
  {
   "cell_type": "code",
   "execution_count": 10,
   "id": "0cf76eb7",
   "metadata": {
    "execution": {
     "iopub.execute_input": "2024-09-15T10:34:12.207825Z",
     "iopub.status.busy": "2024-09-15T10:34:12.207439Z",
     "iopub.status.idle": "2024-09-15T10:34:12.212147Z",
     "shell.execute_reply": "2024-09-15T10:34:12.211201Z"
    },
    "papermill": {
     "duration": 0.012996,
     "end_time": "2024-09-15T10:34:12.214365",
     "exception": false,
     "start_time": "2024-09-15T10:34:12.201369",
     "status": "completed"
    },
    "tags": []
   },
   "outputs": [],
   "source": [
    "with_phone_rate = 117/(117+258)\n",
    "with_cover_rate = 130/(130+206)"
   ]
  },
  {
   "cell_type": "code",
   "execution_count": 11,
   "id": "36592e7a",
   "metadata": {
    "execution": {
     "iopub.execute_input": "2024-09-15T10:34:12.226770Z",
     "iopub.status.busy": "2024-09-15T10:34:12.225718Z",
     "iopub.status.idle": "2024-09-15T10:34:12.232076Z",
     "shell.execute_reply": "2024-09-15T10:34:12.231121Z"
    },
    "papermill": {
     "duration": 0.014657,
     "end_time": "2024-09-15T10:34:12.234162",
     "exception": false,
     "start_time": "2024-09-15T10:34:12.219505",
     "status": "completed"
    },
    "tags": []
   },
   "outputs": [
    {
     "data": {
      "text/plain": [
       "(0.312, 0.3869047619047619)"
      ]
     },
     "execution_count": 11,
     "metadata": {},
     "output_type": "execute_result"
    }
   ],
   "source": [
    "with_phone_rate, with_cover_rate"
   ]
  },
  {
   "cell_type": "code",
   "execution_count": 12,
   "id": "4ccd38d8",
   "metadata": {
    "execution": {
     "iopub.execute_input": "2024-09-15T10:34:12.245873Z",
     "iopub.status.busy": "2024-09-15T10:34:12.245490Z",
     "iopub.status.idle": "2024-09-15T10:34:12.250316Z",
     "shell.execute_reply": "2024-09-15T10:34:12.249418Z"
    },
    "papermill": {
     "duration": 0.013089,
     "end_time": "2024-09-15T10:34:12.252368",
     "exception": false,
     "start_time": "2024-09-15T10:34:12.239279",
     "status": "completed"
    },
    "tags": []
   },
   "outputs": [],
   "source": [
    "null_hypothesis = \"There is relationship\"\n",
    "alternate_hypothesis = \"There is no relationship\""
   ]
  },
  {
   "cell_type": "code",
   "execution_count": 13,
   "id": "61733b4d",
   "metadata": {
    "execution": {
     "iopub.execute_input": "2024-09-15T10:34:12.264797Z",
     "iopub.status.busy": "2024-09-15T10:34:12.263859Z",
     "iopub.status.idle": "2024-09-15T10:34:13.372624Z",
     "shell.execute_reply": "2024-09-15T10:34:13.371665Z"
    },
    "papermill": {
     "duration": 1.117541,
     "end_time": "2024-09-15T10:34:13.375094",
     "exception": false,
     "start_time": "2024-09-15T10:34:12.257553",
     "status": "completed"
    },
    "tags": []
   },
   "outputs": [],
   "source": [
    "from scipy.stats import chi2_contingency"
   ]
  },
  {
   "cell_type": "code",
   "execution_count": 14,
   "id": "cfab06fd",
   "metadata": {
    "execution": {
     "iopub.execute_input": "2024-09-15T10:34:13.387328Z",
     "iopub.status.busy": "2024-09-15T10:34:13.386751Z",
     "iopub.status.idle": "2024-09-15T10:34:13.394911Z",
     "shell.execute_reply": "2024-09-15T10:34:13.393888Z"
    },
    "papermill": {
     "duration": 0.01666,
     "end_time": "2024-09-15T10:34:13.397114",
     "exception": false,
     "start_time": "2024-09-15T10:34:13.380454",
     "status": "completed"
    },
    "tags": []
   },
   "outputs": [],
   "source": [
    "chi2_statistic, p_value, dof, expected_values = chi2_contingency(ct, correction=False)"
   ]
  },
  {
   "cell_type": "code",
   "execution_count": 15,
   "id": "4f405c74",
   "metadata": {
    "execution": {
     "iopub.execute_input": "2024-09-15T10:34:13.409305Z",
     "iopub.status.busy": "2024-09-15T10:34:13.408887Z",
     "iopub.status.idle": "2024-09-15T10:34:13.415464Z",
     "shell.execute_reply": "2024-09-15T10:34:13.414538Z"
    },
    "papermill": {
     "duration": 0.015113,
     "end_time": "2024-09-15T10:34:13.417577",
     "exception": false,
     "start_time": "2024-09-15T10:34:13.402464",
     "status": "completed"
    },
    "tags": []
   },
   "outputs": [
    {
     "data": {
      "text/plain": [
       "(4.385751976925068,\n",
       " 0.03624050241176425,\n",
       " 1,\n",
       " array([[219.2742616, 116.7257384],\n",
       "        [244.7257384, 130.2742616]]))"
      ]
     },
     "execution_count": 15,
     "metadata": {},
     "output_type": "execute_result"
    }
   ],
   "source": [
    "chi2_statistic, p_value, dof, expected_values"
   ]
  },
  {
   "cell_type": "code",
   "execution_count": 16,
   "id": "8a5f5199",
   "metadata": {
    "execution": {
     "iopub.execute_input": "2024-09-15T10:34:13.429503Z",
     "iopub.status.busy": "2024-09-15T10:34:13.429099Z",
     "iopub.status.idle": "2024-09-15T10:34:13.434759Z",
     "shell.execute_reply": "2024-09-15T10:34:13.433830Z"
    },
    "papermill": {
     "duration": 0.014366,
     "end_time": "2024-09-15T10:34:13.437161",
     "exception": false,
     "start_time": "2024-09-15T10:34:13.422795",
     "status": "completed"
    },
    "tags": []
   },
   "outputs": [
    {
     "name": "stdout",
     "output_type": "stream",
     "text": [
      "significance = 0.050, p-value = 0.036\n",
      "Dependent, We can reject null hypothesis\n"
     ]
    }
   ],
   "source": [
    "prob = 0.95\n",
    "alpha = 1.0 - prob\n",
    "print('significance = %.3f, p-value = %.3f' % (alpha, p_value))\n",
    "if p_value <= alpha:\n",
    "    print('Dependent, We can reject null hypothesis')\n",
    "else:\n",
    "    print('Independent, We accept null hypothesis')"
   ]
  },
  {
   "cell_type": "code",
   "execution_count": null,
   "id": "06d2c11a",
   "metadata": {
    "papermill": {
     "duration": 0.004902,
     "end_time": "2024-09-15T10:34:13.447298",
     "exception": false,
     "start_time": "2024-09-15T10:34:13.442396",
     "status": "completed"
    },
    "tags": []
   },
   "outputs": [],
   "source": []
  }
 ],
 "metadata": {
  "kaggle": {
   "accelerator": "none",
   "dataSources": [
    {
     "datasetId": 5706059,
     "sourceId": 9400274,
     "sourceType": "datasetVersion"
    }
   ],
   "dockerImageVersionId": 30761,
   "isGpuEnabled": false,
   "isInternetEnabled": true,
   "language": "python",
   "sourceType": "notebook"
  },
  "kernelspec": {
   "display_name": "Python 3",
   "language": "python",
   "name": "python3"
  },
  "language_info": {
   "codemirror_mode": {
    "name": "ipython",
    "version": 3
   },
   "file_extension": ".py",
   "mimetype": "text/x-python",
   "name": "python",
   "nbconvert_exporter": "python",
   "pygments_lexer": "ipython3",
   "version": "3.10.14"
  },
  "papermill": {
   "default_parameters": {},
   "duration": 5.468399,
   "end_time": "2024-09-15T10:34:14.072657",
   "environment_variables": {},
   "exception": null,
   "input_path": "__notebook__.ipynb",
   "output_path": "__notebook__.ipynb",
   "parameters": {},
   "start_time": "2024-09-15T10:34:08.604258",
   "version": "2.6.0"
  }
 },
 "nbformat": 4,
 "nbformat_minor": 5
}
